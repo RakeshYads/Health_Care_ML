{
 "cells": [
  {
   "cell_type": "markdown",
   "metadata": {},
   "source": [
    "https://trainindata.medium.com/feature-engineering-for-machine-learning-a-comprehensive-overview-a7ad04c896f8\n",
    "https://packaging.python.org/en/latest/tutorials/packaging-projects/\n",
    "https://github.com/DebarshiChanda/Amazon-ML-Challenge2021/blob/main/assets/Finale%20Solution%20DeVaSh.Ai.pdf\n",
    "https://pandas.pydata.org/docs/reference/api/pandas.crosstab.html\n",
    "https://stackoverflow.com/questions/52611498/need-help-understanding-cross-val-score-in-sklearn-python\n",
    "https://stats.stackexchange.com/questions/103475/classifier-vs-model-vs-estimator\n",
    "https://www.pluralsight.com/guides/extracting-data-html-beautifulsoup\n",
    "https://neptune.ai/blog/10-nlp-projects\n",
    "https://www.google.com/search?client=firefox-b-d&q=what%27s+the+use+of+k-fold\n",
    "https://machinelearningmastery.com/train-test-split-for-evaluating-machine-learning-algorithms/\n",
    "https://stackoverflow.com/questions/32700797/saving-a-cross-validation-trained-model-in-scikit\n",
    "https://neptune.ai/blog/cross-validation-in-machine-learning-how-to-do-it-right\n",
    "https://www.google.com/search?client=firefox-b-d&q=what+changes+the+estimator+in+python\n",
    "https://scikit-learn.org/stable/modules/generated/sklearn.metrics.confusion_matrix.html\n",
    "https://www.analyticsvidhya.com/blog/2022/02/k-fold-cross-validation-technique-and-its-essentials/\n",
    "https://towardsdatascience.com/k-fold-cross-validation-explained-in-plain-english-659e33c0bc0\n",
    "https://scikit-learn.org/stable/modules/generated/sklearn.model_selection.KFold.html\n",
    "https://neptune.ai/blog/cross-validation-in-machine-learning-how-to-do-it-right\n",
    "https://towardsdatascience.com/train-test-split-and-cross-validation-in-python-80b61beca4b6\n",
    "https://machinelearningmastery.com/repeated-k-fold-cross-validation-with-python/\n",
    "https://towardsdatascience.com/machine-learning-algorithms-part-14-cross-validation-and-ridge-regression-example-in-python-2d9e0c4de875\n",
    "https://stackoverflow.com/questions/47464067/how-to-predict-labels-using-cross-validation-kfold-with-sklearn\n",
    "https://stackoverflow.com/questions/41560177/using-cross-val-predict-against-test-data-set\n",
    "https://scikit-learn.org/stable/modules/generated/sklearn.model_selection.cross_val_predict.html\n",
    "https://blog.clairvoyantsoft.com/correlation-and-collinearity-how-they-can-make-or-break-a-model-9135fbe6936a\n",
    "https://machinelearningmastery.com/how-to-use-correlation-to-understand-the-relationship-between-variables/\n",
    "https://www.google.com/search?client=firefox-b-d&q=feature+selection\n",
    "https://machinelearningmastery.com/feature-selection-with-real-and-categorical-data/\n",
    "https://www.analyticsvidhya.com/blog/2020/10/feature-selection-techniques-in-machine-learning/\n",
    "https://towardsdatascience.com/feature-selection-techniques-in-machine-learning-with-python-f24e7da3f36e\n",
    "https://towardsdatascience.com/the-5-feature-selection-algorithms-every-data-scientist-need-to-know-3a6b566efd2\n",
    "https://www.simplilearn.com/tutorials/machine-learning-tutorial/feature-selection-in-machine-learning\n",
    "https://medium.com/@t.rosen2101/choosing-the-right-estimator-ae054809b693\n",
    "https://www.kaggle.com/getting-started/86622#post499962\n",
    "https://scikit-learn.org/stable/tutorial/machine_learning_map/index.html\n",
    "https://machinelearningmastery.com/calculate-feature-importance-with-python/\n",
    "https://www.google.com/search?q=assumptions+in+linear+regression&client=firefox-b-d&ei=2RgPY8K1MrGVseMPrMWe6AU&ved=0ahUKEwiChsfn0fD5AhWxSmwGHayiB10Q4dUDCA0&uact=5&oq=assumptions+in+linear+regression&gs_lcp=Cgdnd3Mtd2l6EAMyBQgAEIAEMgUIABCABDIGCAAQHhAHMgYIABAeEAcyCAgAEB4QBxAFMgYIABAeEAUyBggAEB4QBTIICAAQHhAHEAUyBggAEB4QCDIGCAAQHhAIOgcIABBHELADOgcIABCwAxBDOgcIABCxAxANOgQIABANOggIABAeEAgQB0oECEEYAEoECEYYAFDXClj8JmDsM2gBcAF4AIAB7QGIAbQUkgEGMC4xNC4xmAEAoAEByAEKwAEB&sclient=gws-wiz"
   ]
  }
 ],
 "metadata": {
  "kernelspec": {
   "display_name": "Python 3",
   "language": "python",
   "name": "python3"
  },
  "language_info": {
   "codemirror_mode": {
    "name": "ipython",
    "version": 3
   },
   "file_extension": ".py",
   "mimetype": "text/x-python",
   "name": "python",
   "nbconvert_exporter": "python",
   "pygments_lexer": "ipython3",
   "version": "3.7.6"
  }
 },
 "nbformat": 4,
 "nbformat_minor": 4
}
